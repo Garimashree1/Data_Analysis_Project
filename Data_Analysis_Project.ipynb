{
 "cells": [
  {
   "cell_type": "code",
   "execution_count": 1,
   "id": "fd729638",
   "metadata": {},
   "outputs": [],
   "source": [
    "import pandas as pd\n",
    "import matplotlib.pyplot as plt\n",
    "import seaborn as sns\n"
   ]
  },
  {
   "cell_type": "code",
   "execution_count": 3,
   "id": "11a500ed",
   "metadata": {},
   "outputs": [],
   "source": [
    "user_details = pd.read_excel(r\"C:\\Users\\garim\\Downloads\\Data Analyst Intern Assignment - Excel.xlsx\", sheet_name='UserDetails.csv')\n",
    "cooking_sessions = pd.read_excel(r\"C:\\Users\\garim\\Downloads\\Data Analyst Intern Assignment - Excel.xlsx\", sheet_name='CookingSessions.csv')\n",
    "order_details = pd.read_excel(r\"C:\\Users\\garim\\Downloads\\Data Analyst Intern Assignment - Excel.xlsx\", sheet_name='OrderDetails.csv')"
   ]
  },
  {
   "cell_type": "code",
   "execution_count": 4,
   "id": "a5c98adc",
   "metadata": {},
   "outputs": [
    {
     "name": "stdout",
     "output_type": "stream",
     "text": [
      "Missing values:\n",
      "UserDetails:\n",
      " User ID              0\n",
      "User Name            0\n",
      "Age                  0\n",
      "Location             0\n",
      "Registration Date    0\n",
      "Phone                0\n",
      "Email                0\n",
      "Favorite Meal        0\n",
      "Total Orders         0\n",
      "dtype: int64\n",
      "CookingSessions:\n",
      " Session ID         0\n",
      "User ID            0\n",
      "Dish Name          0\n",
      "Meal Type          0\n",
      "Session Start      0\n",
      "Session End        0\n",
      "Duration (mins)    0\n",
      "Session Rating     0\n",
      "dtype: int64\n",
      "OrderDetails:\n",
      " Order ID        0\n",
      "User ID         0\n",
      "Order Date      0\n",
      "Meal Type       0\n",
      "Dish Name       0\n",
      "Order Status    0\n",
      "Amount (USD)    0\n",
      "Time of Day     0\n",
      "Rating          2\n",
      "Session ID      0\n",
      "dtype: int64\n"
     ]
    }
   ],
   "source": [
    "# Step 1: Data Cleaning\n",
    "# Check for missing values\n",
    "print(\"Missing values:\")\n",
    "print(\"UserDetails:\\n\", user_details.isnull().sum())\n",
    "print(\"CookingSessions:\\n\", cooking_sessions.isnull().sum())\n",
    "print(\"OrderDetails:\\n\", order_details.isnull().sum())"
   ]
  },
  {
   "cell_type": "code",
   "execution_count": 5,
   "id": "29d04467",
   "metadata": {},
   "outputs": [],
   "source": [
    "# Remove Duplicates\n",
    "user_details = user_details.drop_duplicates()\n",
    "cooking_sessions = cooking_sessions.drop_duplicates()\n",
    "order_details = order_details.drop_duplicates()\n"
   ]
  },
  {
   "cell_type": "code",
   "execution_count": 6,
   "id": "000e303b",
   "metadata": {},
   "outputs": [],
   "source": [
    "# Ensure consistent column names\n",
    "order_details.columns = order_details.columns.str.strip()\n",
    "cooking_sessions.columns = cooking_sessions.columns.str.strip()\n",
    "user_details.columns = user_details.columns.str.strip()"
   ]
  },
  {
   "cell_type": "code",
   "execution_count": 7,
   "id": "c4dac8b6",
   "metadata": {},
   "outputs": [],
   "source": [
    "order_details['User ID'] = order_details['User ID'].astype(str).str.strip()\n",
    "cooking_sessions['User ID'] = cooking_sessions['User ID'].astype(str).str.strip()\n",
    "user_details['User ID'] = user_details['User ID'].astype(str).str.strip()"
   ]
  },
  {
   "cell_type": "code",
   "execution_count": 8,
   "id": "007079dd",
   "metadata": {},
   "outputs": [
    {
     "name": "stdout",
     "output_type": "stream",
     "text": [
      "Step 1 Merge Successful\n"
     ]
    }
   ],
   "source": [
    "# Merge Data\n",
    "# Step 1: Merge OrderDetails with CookingSessions\n",
    "step1_merge = order_details.merge(cooking_sessions, on='Session ID', how='inner')\n",
    "print(\"Step 1 Merge Successful\")"
   ]
  },
  {
   "cell_type": "code",
   "execution_count": 9,
   "id": "d2d0979b",
   "metadata": {},
   "outputs": [
    {
     "name": "stdout",
     "output_type": "stream",
     "text": [
      "Step 2 Merge Successful\n"
     ]
    }
   ],
   "source": [
    "# Step 2: Merge with UserDetails\n",
    "step1_merge = step1_merge.rename(columns={'User ID_x': 'User ID'})\n",
    "step2_merge = step1_merge.merge(user_details, on='User ID', how='left')\n",
    "print(\"Step 2 Merge Successful\")"
   ]
  },
  {
   "cell_type": "code",
   "execution_count": 10,
   "id": "14bdefa1",
   "metadata": {},
   "outputs": [
    {
     "name": "stdout",
     "output_type": "stream",
     "text": [
      "\n",
      "Popular Dishes:\n",
      " Spaghetti          4\n",
      "Grilled Chicken    4\n",
      "Caesar Salad       3\n",
      "Pancakes           2\n",
      "Veggie Burger      2\n",
      "Oatmeal            1\n",
      "Name: Dish Name_x, dtype: int64\n"
     ]
    }
   ],
   "source": [
    "# Step 3: Analysis\n",
    "# Popular dishes\n",
    "popular_dishes = step2_merge['Dish Name_x'].value_counts()\n",
    "print(\"\\nPopular Dishes:\\n\", popular_dishes)"
   ]
  },
  {
   "cell_type": "code",
   "execution_count": 11,
   "id": "ec915737",
   "metadata": {},
   "outputs": [
    {
     "name": "stdout",
     "output_type": "stream",
     "text": [
      "\n",
      "Order vs Cooking Sessions Analysis:\n",
      " Dish Name_x      Meal Type_x\n",
      "Caesar Salad     Lunch          3\n",
      "Grilled Chicken  Dinner         4\n",
      "Oatmeal          Breakfast      1\n",
      "Pancakes         Breakfast      2\n",
      "Spaghetti        Dinner         4\n",
      "Veggie Burger    Lunch          2\n",
      "dtype: int64\n"
     ]
    }
   ],
   "source": [
    "# Relationship between cooking sessions and orders\n",
    "order_session_analysis = step2_merge.groupby(['Dish Name_x', 'Meal Type_x']).size()\n",
    "print(\"\\nOrder vs Cooking Sessions Analysis:\\n\", order_session_analysis)"
   ]
  },
  {
   "cell_type": "code",
   "execution_count": 12,
   "id": "c4bb3a75",
   "metadata": {},
   "outputs": [
    {
     "name": "stdout",
     "output_type": "stream",
     "text": [
      "\n",
      "Age Analysis:\n",
      " Age\n",
      "25.0     7.0\n",
      "27.0    20.0\n",
      "28.0    36.0\n",
      "30.0    18.0\n",
      "31.0     5.0\n",
      "35.0    24.0\n",
      "38.0    14.0\n",
      "42.0    45.0\n",
      "Name: Total Orders, dtype: float64\n"
     ]
    }
   ],
   "source": [
    "# Demographic analysis\n",
    "age_analysis = step2_merge.groupby('Age')['Total Orders'].sum()\n",
    "print(\"\\nAge Analysis:\\n\", age_analysis)\n"
   ]
  },
  {
   "cell_type": "code",
   "execution_count": 13,
   "id": "f154d58b",
   "metadata": {},
   "outputs": [
    {
     "data": {
      "image/png": "[encoded data removed]",
      "text/plain": [
       "<Figure size 720x432 with 1 Axes>"
      ]
     },
     "metadata": {
      "needs_background": "light"
     },
     "output_type": "display_data"
    }
   ],
   "source": [
    "# Step 4: Visualization\n",
    "# Plot popular dishes\n",
    "plt.figure(figsize=(10, 6))\n",
    "sns.barplot(x=popular_dishes.index, y=popular_dishes.values, palette='viridis')\n",
    "plt.title('Popular Dishes Ordered')\n",
    "plt.xticks(rotation=45)\n",
    "plt.ylabel('Count')\n",
    "plt.show()"
   ]
  },
  {
   "cell_type": "code",
   "execution_count": 14,
   "id": "033bfb1a",
   "metadata": {},
   "outputs": [
    {
     "data": {
      "image/png": "[encoded data removed]",
      "text/plain": [
       "<Figure size 720x432 with 1 Axes>"
      ]
     },
     "metadata": {
      "needs_background": "light"
     },
     "output_type": "display_data"
    }
   ],
   "source": [
    "# Plot orders by age\n",
    "plt.figure(figsize=(10, 6))\n",
    "sns.lineplot(x=age_analysis.index, y=age_analysis.values, marker='o')\n",
    "plt.title('Age-Wise Total Orders')\n",
    "plt.xlabel('Age')\n",
    "plt.ylabel('Total Orders')\n",
    "plt.show()"
   ]
  },
  {
   "cell_type": "code",
   "execution_count": 15,
   "id": "d3b3bfdd",
   "metadata": {},
   "outputs": [
    {
     "name": "stdout",
     "output_type": "stream",
     "text": [
      "Analysis complete. Visualizations generated, and merged data saved as 'Merged_Data.csv'.\n"
     ]
    }
   ],
   "source": [
    "# Save merged data\n",
    "step2_merge.to_csv('Merged_Data.csv', index=False)\n",
    "print(\"Analysis complete. Visualizations generated, and merged data saved as 'Merged_Data.csv'.\")"
   ]
  },
  {
   "cell_type": "code",
   "execution_count": null,
   "id": "d1a92346",
   "metadata": {},
   "outputs": [],
   "source": []
  }
 ],
 "metadata": {
  "kernelspec": {
   "display_name": "Python 3 (ipykernel)",
   "language": "python",
   "name": "python3"
  },
  "language_info": {
   "codemirror_mode": {
    "name": "ipython",
    "version": 3
   },
   "file_extension": ".py",
   "mimetype": "text/x-python",
   "name": "python",
   "nbconvert_exporter": "python",
   "pygments_lexer": "ipython3",
   "version": "3.9.12"
  }
 },
 "nbformat": 4,
 "nbformat_minor": 5
}
